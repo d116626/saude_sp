{
 "cells": [
  {
   "cell_type": "code",
   "execution_count": 3,
   "metadata": {},
   "outputs": [],
   "source": [
    "import pandas as pd\n",
    "import numpy as np\n",
    "\n",
    "from os import listdir\n",
    "from os.path import isfile, join\n",
    "from os import path\n",
    "\n",
    "\n",
    "import wget\n",
    "import gc\n",
    "\n",
    "\n",
    "import rpy2.robjects.packages as rpackages\n",
    "from rpy2.robjects.packages import importr\n",
    "from rpy2.robjects import pandas2ri\n",
    "#install.packages(\"read.dbc\")\n",
    "utils = rpackages.importr('read.dbc')\n",
    "utils_package = importr(\"utils\")"
   ]
  },
  {
   "cell_type": "code",
   "execution_count": 4,
   "metadata": {},
   "outputs": [
    {
     "name": "stdout",
     "output_type": "stream",
     "text": [
      "SPSP1801.dbc already exist\n",
      "SPSP1802.dbc already exist\n",
      "SPSP1803.dbc already exist\n",
      "SPSP1804.dbc already exist\n",
      "SPSP1805.dbc already exist\n",
      "SPSP1806.dbc already exist\n",
      "SPSP1807.dbc already exist\n",
      "SPSP1808.dbc already exist\n",
      "SPSP1809.dbc already exist\n",
      "SPSP1810.dbc already exist\n",
      "SPSP1811.dbc already exist\n",
      "SPSP1812.dbc already exist\n",
      "SPSP1901.dbc already exist\n",
      "SPSP1902.dbc already exist\n",
      "SPSP1903.dbc already exist\n",
      "SPSP1904.dbc already exist\n",
      "SPSP1905.dbc already exist\n",
      "SPSP1906.dbc already exist\n",
      "SPSP1907.dbc already exist\n",
      "SPSP1908.dbc already exist\n",
      "SPSP1909.dbc already exist\n",
      "Error on file: SPSP1910.dbc\n",
      "Error on file: SPSP1911.dbc\n",
      "Error on file: SPSP1912.dbc\n"
     ]
    }
   ],
   "source": [
    "anos   = ['18','19']\n",
    "months = ['01','02','03','04','05','06','07','08','09','10','11','12']\n",
    "\n",
    "\n",
    "for ano in anos:\n",
    "    for mes in months:\n",
    "        file = 'SPSP{}{}.dbc'.format(ano,mes)\n",
    "        url =     'ftp://ftp.datasus.gov.br/dissemin/publicos/SIHSUS/200801_/Dados/{}'.format(file)\n",
    "        try:\n",
    "            if path.exists(\"../data/SIHSUS/dbc/{}\".format(file)):\n",
    "                print(file, 'already exist')\n",
    "                pass\n",
    "            else:\n",
    "                wget.download(url, out='../data/SIHSUS/dbc')\n",
    "                print(url)\n",
    "        except:\n",
    "            print('Error on file: {}'.format(file))"
   ]
  },
  {
   "cell_type": "code",
   "execution_count": 5,
   "metadata": {},
   "outputs": [],
   "source": [
    "path_dbc = '../data/SIHSUS/dbc'\n",
    "path_parquet = '../data/SIHSUS/parquet'\n",
    "onlyfiles = [f for f in listdir(path_dbc) if isfile(join(path_dbc, f))]\n",
    "file_dbc = [\"{}/{}\".format(path_dbc,file) for file in onlyfiles]\n",
    "file_parquet = [\"{}/{}\".format(path_parquet,file.replace('.dbc','.parquet')) for file in onlyfiles]"
   ]
  },
  {
   "cell_type": "code",
   "execution_count": null,
   "metadata": {},
   "outputs": [
    {
     "name": "stdout",
     "output_type": "stream",
     "text": [
      "../data/SIHSUS/parquet/SPSP1801.parquet already exist \n",
      "\n",
      "../data/SIHSUS/parquet/SPSP1802.parquet already exist \n",
      "\n",
      "../data/SIHSUS/parquet/SPSP1803.parquet already exist \n",
      "\n",
      "../data/SIHSUS/parquet/SPSP1804.parquet already exist \n",
      "\n",
      "../data/SIHSUS/parquet/SPSP1805.parquet already exist \n",
      "\n",
      "../data/SIHSUS/parquet/SPSP1806.parquet already exist \n",
      "\n",
      "../data/SIHSUS/parquet/SPSP1807.parquet already exist \n",
      "\n"
     ]
    }
   ],
   "source": [
    "for dbc_file, parquet_file in zip(file_dbc, file_parquet):\n",
    "    \n",
    "    if path.exists(parquet_file):\n",
    "        print(parquet_file,'already exist','\\n')\n",
    "        pass\n",
    "    else:\n",
    "        r_df = utils.read_dbc(dbc_file)\n",
    "        \n",
    "        print('loaded in R df')\n",
    "        \n",
    "        utils_package.write_csv(r_df, 'file_to_convert.csv', fileEncoding='utf-8')\n",
    "        \n",
    "        print('saved .csv')\n",
    "        \n",
    "        df = pd.read_csv('file_to_convert.csv')\n",
    "        print('loaded in pandas df')\n",
    "        \n",
    "        cols = ['SP_GESTOR','SP_UF','SP_AA','SP_MM','SP_CNES','SP_NAIH','SP_PROCREA','SP_DTINTER','SP_DTSAIDA','SP_NUM_PR','SP_TIPO','SP_CPFCGC','SP_ATOPROF',\n",
    "        'SP_TP_ATO','SP_QTD_ATO','SP_PTSP','SP_NF','SP_VALATO','SP_M_HOSP','SP_M_PAC','SP_DES_HOS','SP_DES_PAC','SP_COMPLEX','SP_FINANC','SP_CO_FAEC',\n",
    "        'SP_PF_CBO','SP_PF_DOC','SP_PJ_DOC','IN_TP_VAL','SEQUENCIA','REMESSA','SERV_CLA','SP_CIDPRI','SP_CIDSEC','SP_QT_PROC','SP_U_AIH']\n",
    "        df = df[cols]\n",
    "        \n",
    "        obj_cols = list(df.select_dtypes(include=['object']).columns)\n",
    "        for col in obj_cols:\n",
    "            df[col] = df[col].astype(str)\n",
    "\n",
    "        df.to_parquet(parquet_file, index=False)\n",
    "        \n",
    "        \n",
    "        \n",
    "        del r_df\n",
    "        gc.collect()\n",
    "        del df\n",
    "        gc.collect()\n",
    "        \n",
    "        \n",
    "        print(parquet_file, '\\n')"
   ]
  },
  {
   "cell_type": "code",
   "execution_count": null,
   "metadata": {},
   "outputs": [],
   "source": []
  },
  {
   "cell_type": "code",
   "execution_count": null,
   "metadata": {},
   "outputs": [],
   "source": []
  },
  {
   "cell_type": "code",
   "execution_count": null,
   "metadata": {},
   "outputs": [],
   "source": []
  },
  {
   "cell_type": "code",
   "execution_count": null,
   "metadata": {},
   "outputs": [],
   "source": []
  },
  {
   "cell_type": "code",
   "execution_count": null,
   "metadata": {},
   "outputs": [],
   "source": []
  },
  {
   "cell_type": "code",
   "execution_count": null,
   "metadata": {},
   "outputs": [],
   "source": []
  },
  {
   "cell_type": "code",
   "execution_count": null,
   "metadata": {},
   "outputs": [],
   "source": []
  },
  {
   "cell_type": "code",
   "execution_count": null,
   "metadata": {},
   "outputs": [],
   "source": []
  },
  {
   "cell_type": "code",
   "execution_count": null,
   "metadata": {},
   "outputs": [],
   "source": []
  },
  {
   "cell_type": "code",
   "execution_count": null,
   "metadata": {},
   "outputs": [],
   "source": []
  },
  {
   "cell_type": "code",
   "execution_count": null,
   "metadata": {},
   "outputs": [],
   "source": []
  },
  {
   "cell_type": "code",
   "execution_count": null,
   "metadata": {},
   "outputs": [],
   "source": []
  },
  {
   "cell_type": "code",
   "execution_count": null,
   "metadata": {},
   "outputs": [],
   "source": []
  },
  {
   "cell_type": "code",
   "execution_count": null,
   "metadata": {},
   "outputs": [],
   "source": []
  },
  {
   "cell_type": "code",
   "execution_count": null,
   "metadata": {},
   "outputs": [],
   "source": []
  },
  {
   "cell_type": "code",
   "execution_count": null,
   "metadata": {},
   "outputs": [],
   "source": []
  },
  {
   "cell_type": "code",
   "execution_count": null,
   "metadata": {},
   "outputs": [],
   "source": []
  },
  {
   "cell_type": "code",
   "execution_count": null,
   "metadata": {},
   "outputs": [],
   "source": []
  },
  {
   "cell_type": "code",
   "execution_count": null,
   "metadata": {},
   "outputs": [],
   "source": []
  }
 ],
 "metadata": {
  "kernelspec": {
   "display_name": "Python 3",
   "language": "python",
   "name": "python3"
  },
  "language_info": {
   "codemirror_mode": {
    "name": "ipython",
    "version": 3
   },
   "file_extension": ".py",
   "mimetype": "text/x-python",
   "name": "python",
   "nbconvert_exporter": "python",
   "pygments_lexer": "ipython3",
   "version": "3.7.4"
  }
 },
 "nbformat": 4,
 "nbformat_minor": 4
}
