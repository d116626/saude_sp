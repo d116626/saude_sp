{
 "cells": [
  {
   "cell_type": "code",
   "execution_count": 2,
   "metadata": {},
   "outputs": [],
   "source": [
    "from selenium import webdriver\n",
    "from selenium.webdriver.support.ui import Select\n",
    "import time\n",
    "import os\n",
    "from os import path\n",
    "\n",
    "from selenium.webdriver.common.action_chains import ActionChains\n",
    "from selenium.webdriver.common.keys import Keys\n",
    "\n",
    "import pandas as pd"
   ]
  },
  {
   "cell_type": "markdown",
   "metadata": {},
   "source": [
    "### Municipio"
   ]
  },
  {
   "cell_type": "code",
   "execution_count": 223,
   "metadata": {},
   "outputs": [],
   "source": [
    "anos = [i for i in range(2008,2020)]\n",
    "meses =['01','02','03','04','05','06','07','08','09','10','11','12']\n",
    "for ano in anos:\n",
    "    for mes in meses:\n",
    "        \n",
    "        \n",
    "        try:\n",
    "            firefox = webdriver.Firefox()\n",
    "            url = 'http://tabnet.datasus.gov.br/cgi/deftohtm.exe?sih/cnv/qrsp.def'\n",
    "\n",
    "            firefox.minimize_window()\n",
    "\n",
    "            firefox.get(url)\n",
    "\n",
    "            linha = Select(firefox.find_element_by_name('Linha'))\n",
    "            linha.select_by_value('Município')\n",
    "\n",
    "\n",
    "            data = Select(firefox.find_element_by_name('Arquivos'))\n",
    "            data.deselect_by_value('qrsp1909.dbf')\n",
    "            data.select_by_value('qrsp{}{}.dbf'.format(str(ano)[2:],mes))\n",
    "\n",
    "\n",
    "\n",
    "            conteudo = Select(firefox.find_element_by_name('Incremento'))\n",
    "\n",
    "            for tag in firefox.find_elements_by_css_selector('select[name=Incremento] option'):\n",
    "                value = tag.get_attribute('value')\n",
    "                conteudo.select_by_value(value)\n",
    "\n",
    "            firefox.find_element_by_name(\"zeradas\").click()\n",
    "\n",
    "\n",
    "            # firefox.find_element_by_id(\"F\")\n",
    "            firefox.find_element_by_css_selector(\"input[value='prn']\").click()\n",
    "            firefox.find_element_by_name(\"mostre\").click()\n",
    "\n",
    "\n",
    "            table = firefox.find_elements_by_xpath('/html[1]/body[1]/div[1]/div[1]/pre[1]')\n",
    "\n",
    "\n",
    "\n",
    "            data= table[0].text.replace('\"','')\n",
    "            l = [x.split(';') for x in data.split('\\n')]\n",
    "            df = pd.DataFrame(l[1:], columns=l[0])\n",
    "\n",
    "            mask = df['Internações'].notnull()\n",
    "            df = df[mask]\n",
    "\n",
    "            for col in df.columns:\n",
    "                df[col] = df[col].str.replace(',','.')\n",
    "\n",
    "            df['ano'] = ano\n",
    "    #         df['ano'] = pd.to_numeric(df['ano'])\n",
    "\n",
    "\n",
    "            df['mes'] = mes\n",
    "            df['mes'] = pd.to_numeric(df['mes'])\n",
    "\n",
    "\n",
    "            file_path = '../data/SIHSUS/sihsus_municipios.csv'\n",
    "            if path.exists(file_path):\n",
    "                df.to_csv(file_path, header=False, index=False, encoding='utf-8', mode='a')\n",
    "\n",
    "            else:\n",
    "                df.to_csv(file_path, index=False, encoding='utf-8')\n",
    "\n",
    "\n",
    "            # //pre[contains(text(),'\"Município\";\"AIH aprovadas\"')]\n",
    "            # print(table[0].text)\n",
    "            firefox.quit()\n",
    "        \n",
    "        except:\n",
    "            print('Erro')"
   ]
  },
  {
   "cell_type": "code",
   "execution_count": null,
   "metadata": {},
   "outputs": [],
   "source": []
  },
  {
   "cell_type": "code",
   "execution_count": null,
   "metadata": {},
   "outputs": [],
   "source": []
  },
  {
   "cell_type": "code",
   "execution_count": null,
   "metadata": {},
   "outputs": [],
   "source": []
  },
  {
   "cell_type": "markdown",
   "metadata": {},
   "source": [
    "### Hospital"
   ]
  },
  {
   "cell_type": "code",
   "execution_count": 9,
   "metadata": {},
   "outputs": [
    {
     "ename": "NoSuchElementException",
     "evalue": "Message: Cannot locate option with value: qrsp1910.dbf\n",
     "output_type": "error",
     "traceback": [
      "\u001b[0;31m---------------------------------------------------------------------------\u001b[0m",
      "\u001b[0;31mNoSuchElementException\u001b[0m                    Traceback (most recent call last)",
      "\u001b[0;32m<ipython-input-9-ed24dc9fc74f>\u001b[0m in \u001b[0;36m<module>\u001b[0;34m\u001b[0m\n\u001b[1;32m     22\u001b[0m         \u001b[0mdata\u001b[0m \u001b[0;34m=\u001b[0m \u001b[0mSelect\u001b[0m\u001b[0;34m(\u001b[0m\u001b[0mfirefox\u001b[0m\u001b[0;34m.\u001b[0m\u001b[0mfind_element_by_name\u001b[0m\u001b[0;34m(\u001b[0m\u001b[0;34m'Arquivos'\u001b[0m\u001b[0;34m)\u001b[0m\u001b[0;34m)\u001b[0m\u001b[0;34m\u001b[0m\u001b[0;34m\u001b[0m\u001b[0m\n\u001b[1;32m     23\u001b[0m         \u001b[0mdata\u001b[0m\u001b[0;34m.\u001b[0m\u001b[0mdeselect_by_value\u001b[0m\u001b[0;34m(\u001b[0m\u001b[0;34m'qrsp1909.dbf'\u001b[0m\u001b[0;34m)\u001b[0m\u001b[0;34m\u001b[0m\u001b[0;34m\u001b[0m\u001b[0m\n\u001b[0;32m---> 24\u001b[0;31m         \u001b[0mdata\u001b[0m\u001b[0;34m.\u001b[0m\u001b[0mselect_by_value\u001b[0m\u001b[0;34m(\u001b[0m\u001b[0;34m'qrsp{}{}.dbf'\u001b[0m\u001b[0;34m.\u001b[0m\u001b[0mformat\u001b[0m\u001b[0;34m(\u001b[0m\u001b[0mstr\u001b[0m\u001b[0;34m(\u001b[0m\u001b[0mano\u001b[0m\u001b[0;34m)\u001b[0m\u001b[0;34m[\u001b[0m\u001b[0;36m2\u001b[0m\u001b[0;34m:\u001b[0m\u001b[0;34m]\u001b[0m\u001b[0;34m,\u001b[0m\u001b[0mmes\u001b[0m\u001b[0;34m)\u001b[0m\u001b[0;34m)\u001b[0m\u001b[0;34m\u001b[0m\u001b[0;34m\u001b[0m\u001b[0m\n\u001b[0m\u001b[1;32m     25\u001b[0m \u001b[0;34m\u001b[0m\u001b[0m\n\u001b[1;32m     26\u001b[0m \u001b[0;34m\u001b[0m\u001b[0m\n",
      "\u001b[0;32m~/anaconda3/lib/python3.7/site-packages/selenium/webdriver/support/select.py\u001b[0m in \u001b[0;36mselect_by_value\u001b[0;34m(self, value)\u001b[0m\n\u001b[1;32m     85\u001b[0m             \u001b[0mmatched\u001b[0m \u001b[0;34m=\u001b[0m \u001b[0;32mTrue\u001b[0m\u001b[0;34m\u001b[0m\u001b[0;34m\u001b[0m\u001b[0m\n\u001b[1;32m     86\u001b[0m         \u001b[0;32mif\u001b[0m \u001b[0;32mnot\u001b[0m \u001b[0mmatched\u001b[0m\u001b[0;34m:\u001b[0m\u001b[0;34m\u001b[0m\u001b[0;34m\u001b[0m\u001b[0m\n\u001b[0;32m---> 87\u001b[0;31m             \u001b[0;32mraise\u001b[0m \u001b[0mNoSuchElementException\u001b[0m\u001b[0;34m(\u001b[0m\u001b[0;34m\"Cannot locate option with value: %s\"\u001b[0m \u001b[0;34m%\u001b[0m \u001b[0mvalue\u001b[0m\u001b[0;34m)\u001b[0m\u001b[0;34m\u001b[0m\u001b[0;34m\u001b[0m\u001b[0m\n\u001b[0m\u001b[1;32m     88\u001b[0m \u001b[0;34m\u001b[0m\u001b[0m\n\u001b[1;32m     89\u001b[0m     \u001b[0;32mdef\u001b[0m \u001b[0mselect_by_index\u001b[0m\u001b[0;34m(\u001b[0m\u001b[0mself\u001b[0m\u001b[0;34m,\u001b[0m \u001b[0mindex\u001b[0m\u001b[0;34m)\u001b[0m\u001b[0;34m:\u001b[0m\u001b[0;34m\u001b[0m\u001b[0;34m\u001b[0m\u001b[0m\n",
      "\u001b[0;31mNoSuchElementException\u001b[0m: Message: Cannot locate option with value: qrsp1910.dbf\n"
     ]
    }
   ],
   "source": [
    "anos = [i for i in range(2008,2020)]\n",
    "meses =['01','02','03','04','05','06','07','08','09','10','11','12']\n",
    "\n",
    "# anos = [2008]\n",
    "# meses = ['01']\n",
    "\n",
    "for ano in anos:\n",
    "    for mes in meses:\n",
    "        \n",
    "        \n",
    "        firefox = webdriver.Firefox()\n",
    "        url = 'http://tabnet.datasus.gov.br/cgi/deftohtm.exe?sih/cnv/qrsp.def'\n",
    "\n",
    "#         firefox.minimize_window()\n",
    "\n",
    "        firefox.get(url)\n",
    "\n",
    "        linha = Select(firefox.find_element_by_name('Linha'))\n",
    "        linha.select_by_value('Estabelecimento')\n",
    "\n",
    "\n",
    "        data = Select(firefox.find_element_by_name('Arquivos'))\n",
    "        data.deselect_by_value('qrsp1909.dbf')\n",
    "        data.select_by_value('qrsp{}{}.dbf'.format(str(ano)[2:],mes))\n",
    "\n",
    "\n",
    "\n",
    "        conteudo = Select(firefox.find_element_by_name('Incremento'))\n",
    "\n",
    "        for tag in firefox.find_elements_by_css_selector('select[name=Incremento] option'):\n",
    "            value = tag.get_attribute('value')\n",
    "            conteudo.select_by_value(value)\n",
    "\n",
    "        firefox.find_element_by_name(\"zeradas\").click()\n",
    "\n",
    "\n",
    "        # firefox.find_element_by_id(\"F\")\n",
    "        firefox.find_element_by_css_selector(\"input[value='prn']\").click()\n",
    "        firefox.find_element_by_name(\"mostre\").click()\n",
    "\n",
    "\n",
    "        table = firefox.find_elements_by_xpath('/html[1]/body[1]/div[1]/div[1]/pre[1]')\n",
    "\n",
    "\n",
    "\n",
    "        data= table[0].text.replace('\"','')\n",
    "        l = [x.split(';') for x in data.split('\\n')]\n",
    "        df = pd.DataFrame(l[1:], columns=l[0])\n",
    "\n",
    "        mask = df['Internações'].notnull()\n",
    "        df = df[mask]\n",
    "\n",
    "        for col in df.columns:\n",
    "            df[col] = df[col].str.replace(',','.')\n",
    "\n",
    "        df['ano'] = ano\n",
    "#         df['ano'] = pd.to_numeric(df['ano'])\n",
    "\n",
    "\n",
    "        df['mes'] = mes\n",
    "        df['mes'] = pd.to_numeric(df['mes'])\n",
    "\n",
    "\n",
    "        file_path = '../data/SIHSUS/sihsus_estabelecimento.csv'\n",
    "        if path.exists(file_path):\n",
    "            df.to_csv(file_path, header=False, index=False, encoding='utf-8', mode='a')\n",
    "\n",
    "        else:\n",
    "            df.to_csv(file_path, index=False, encoding='utf-8')\n",
    "\n",
    "\n",
    "        # //pre[contains(text(),'\"Município\";\"AIH aprovadas\"')]\n",
    "        # print(table[0].text)\n",
    "        firefox.quit()\n",
    "        \n"
   ]
  },
  {
   "cell_type": "code",
   "execution_count": null,
   "metadata": {},
   "outputs": [],
   "source": []
  },
  {
   "cell_type": "code",
   "execution_count": null,
   "metadata": {},
   "outputs": [],
   "source": []
  },
  {
   "cell_type": "code",
   "execution_count": null,
   "metadata": {},
   "outputs": [],
   "source": []
  },
  {
   "cell_type": "code",
   "execution_count": null,
   "metadata": {},
   "outputs": [],
   "source": []
  },
  {
   "cell_type": "code",
   "execution_count": null,
   "metadata": {},
   "outputs": [],
   "source": []
  },
  {
   "cell_type": "code",
   "execution_count": null,
   "metadata": {},
   "outputs": [],
   "source": []
  },
  {
   "cell_type": "code",
   "execution_count": null,
   "metadata": {},
   "outputs": [],
   "source": []
  },
  {
   "cell_type": "code",
   "execution_count": null,
   "metadata": {},
   "outputs": [],
   "source": []
  },
  {
   "cell_type": "code",
   "execution_count": null,
   "metadata": {},
   "outputs": [],
   "source": []
  },
  {
   "cell_type": "code",
   "execution_count": null,
   "metadata": {},
   "outputs": [],
   "source": []
  },
  {
   "cell_type": "code",
   "execution_count": null,
   "metadata": {},
   "outputs": [],
   "source": []
  },
  {
   "cell_type": "code",
   "execution_count": null,
   "metadata": {},
   "outputs": [],
   "source": []
  },
  {
   "cell_type": "code",
   "execution_count": null,
   "metadata": {},
   "outputs": [],
   "source": []
  },
  {
   "cell_type": "code",
   "execution_count": null,
   "metadata": {},
   "outputs": [],
   "source": []
  },
  {
   "cell_type": "code",
   "execution_count": null,
   "metadata": {},
   "outputs": [],
   "source": []
  },
  {
   "cell_type": "code",
   "execution_count": null,
   "metadata": {},
   "outputs": [],
   "source": []
  },
  {
   "cell_type": "code",
   "execution_count": null,
   "metadata": {},
   "outputs": [],
   "source": []
  },
  {
   "cell_type": "code",
   "execution_count": null,
   "metadata": {},
   "outputs": [],
   "source": []
  },
  {
   "cell_type": "code",
   "execution_count": null,
   "metadata": {},
   "outputs": [],
   "source": []
  },
  {
   "cell_type": "code",
   "execution_count": null,
   "metadata": {},
   "outputs": [],
   "source": []
  },
  {
   "cell_type": "code",
   "execution_count": null,
   "metadata": {},
   "outputs": [],
   "source": []
  },
  {
   "cell_type": "code",
   "execution_count": null,
   "metadata": {},
   "outputs": [],
   "source": []
  },
  {
   "cell_type": "code",
   "execution_count": null,
   "metadata": {},
   "outputs": [],
   "source": []
  },
  {
   "cell_type": "code",
   "execution_count": null,
   "metadata": {},
   "outputs": [],
   "source": []
  },
  {
   "cell_type": "code",
   "execution_count": null,
   "metadata": {},
   "outputs": [],
   "source": []
  },
  {
   "cell_type": "code",
   "execution_count": null,
   "metadata": {},
   "outputs": [],
   "source": []
  }
 ],
 "metadata": {
  "kernelspec": {
   "display_name": "Python 3",
   "language": "python",
   "name": "python3"
  },
  "language_info": {
   "codemirror_mode": {
    "name": "ipython",
    "version": 3
   },
   "file_extension": ".py",
   "mimetype": "text/x-python",
   "name": "python",
   "nbconvert_exporter": "python",
   "pygments_lexer": "ipython3",
   "version": "3.7.4"
  }
 },
 "nbformat": 4,
 "nbformat_minor": 4
}
